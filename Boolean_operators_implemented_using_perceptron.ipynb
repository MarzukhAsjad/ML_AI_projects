{
  "cells": [
    {
      "cell_type": "markdown",
      "metadata": {
        "id": "view-in-github",
        "colab_type": "text"
      },
      "source": [
        "<a href=\"https://colab.research.google.com/github/MarzukhAsjad/ML_projects/blob/main/Boolean_operators_implemented_using_perceptron.ipynb\" target=\"_parent\"><img src=\"https://colab.research.google.com/assets/colab-badge.svg\" alt=\"Open In Colab\"/></a>"
      ]
    },
    {
      "cell_type": "markdown",
      "id": "75eb9fe0",
      "metadata": {
        "id": "75eb9fe0"
      },
      "source": [
        "# COMP3314 HW1-Q2: Perceptron Boolean Operators (10 points)"
      ]
    },
    {
      "cell_type": "markdown",
      "id": "fd2a4cc0",
      "metadata": {
        "id": "fd2a4cc0"
      },
      "source": [
        "We will implement `NOT`, `AND`, `OR`, `NAND`, `NOR` operators with perceptrons.\n",
        "The `NOT` operator only requires one input `(x1)`. The other operators requires two inputs `(x1, x2)`"
      ]
    },
    {
      "cell_type": "markdown",
      "id": "ae1b5bd6",
      "metadata": {
        "id": "ae1b5bd6"
      },
      "source": [
        "## 1. `NOT` Operator"
      ]
    },
    {
      "cell_type": "code",
      "execution_count": null,
      "id": "875d409e",
      "metadata": {
        "colab": {
          "base_uri": "https://localhost:8080/"
        },
        "id": "875d409e",
        "outputId": "f0aaf0b3-b238-49da-c134-ea18650bf516"
      },
      "outputs": [
        {
          "output_type": "stream",
          "name": "stdout",
          "text": [
            "NOT(0) = 1\n",
            "NOT(1) = 0\n"
          ]
        }
      ],
      "source": [
        "class PerceptronNOT:\n",
        "\n",
        "    def __init__(self):\n",
        "        self.w0 = 0.5\n",
        "        self.w1 = -1\n",
        "\n",
        "    def decision_function(self, z):\n",
        "        return 1 if z >= 0 else 0\n",
        "\n",
        "    def forward(self, x1):\n",
        "        z = self.w0 + self.w1 * x1\n",
        "        phi_z = self.decision_function(z)\n",
        "        return phi_z\n",
        "\n",
        "\n",
        "model = PerceptronNOT()\n",
        "for x1 in [0, 1]:\n",
        "    print(f\"NOT({x1}) = {model.forward(x1)}\")"
      ]
    },
    {
      "cell_type": "markdown",
      "id": "d9464635",
      "metadata": {
        "id": "d9464635"
      },
      "source": [
        "## 2. `AND` Operator"
      ]
    },
    {
      "cell_type": "code",
      "execution_count": null,
      "id": "d7819474",
      "metadata": {
        "colab": {
          "base_uri": "https://localhost:8080/"
        },
        "id": "d7819474",
        "outputId": "cb88e266-9619-4bf2-f04a-50d459575ce7"
      },
      "outputs": [
        {
          "output_type": "stream",
          "name": "stdout",
          "text": [
            "AND(0, 0) = 0\n",
            "AND(0, 1) = 0\n",
            "AND(1, 0) = 0\n",
            "AND(1, 1) = 1\n"
          ]
        }
      ],
      "source": [
        "class PerceptronAND:\n",
        "\n",
        "  def __init__(self):\n",
        "    self.w0 = -1\n",
        "    self.w1 = 1\n",
        "    self.w2 = 1\n",
        "  \n",
        "  def decision_function(self, z):\n",
        "    return 1 if z >= 1 else 0 \n",
        "\n",
        "  def forward(self, x1, x2):\n",
        "    z = self.w0 + self.w1 * x1 + self.w2 * x2\n",
        "    phi_z = self.decision_function(z)\n",
        "    return phi_z\n",
        "  \n",
        "model = PerceptronAND()\n",
        "for x1 in [0, 1]:\n",
        "  for x2 in [0, 1]:\n",
        "    print(f\"AND{x1, x2} = {model.forward(x1, x2)}\")"
      ]
    },
    {
      "cell_type": "markdown",
      "id": "bf1c124c",
      "metadata": {
        "id": "bf1c124c"
      },
      "source": [
        "## 3. `OR` Operator"
      ]
    },
    {
      "cell_type": "code",
      "execution_count": null,
      "id": "1475e475",
      "metadata": {
        "colab": {
          "base_uri": "https://localhost:8080/"
        },
        "id": "1475e475",
        "outputId": "5ac0e5ed-df1f-4bae-de54-d154b76e0510"
      },
      "outputs": [
        {
          "output_type": "stream",
          "name": "stdout",
          "text": [
            "OR(0, 0) = 0\n",
            "OR(0, 1) = 1\n",
            "OR(1, 0) = 1\n",
            "OR(1, 1) = 1\n"
          ]
        }
      ],
      "source": [
        "class PerceptronOR:\n",
        "\n",
        "  def __init__(self): \n",
        "    self.w0 = -1\n",
        "    self.w1 = 1\n",
        "    self.w2 = 1\n",
        "  \n",
        "  def decision_function(self, z):\n",
        "    return 1 if z >= 0 else 0\n",
        "\n",
        "  def forward(self, x1, x2):\n",
        "    z = self.w0 + self.w1 * x1 + self.w2 * x2\n",
        "    phi_z = self.decision_function(z)\n",
        "    return phi_z\n",
        "  \n",
        "model = PerceptronOR()\n",
        "for x1 in [0, 1]:\n",
        "  for x2 in [0, 1]:\n",
        "    print(f\"OR{x1, x2} = {model.forward(x1, x2)}\")"
      ]
    },
    {
      "cell_type": "markdown",
      "id": "b1cc85f1",
      "metadata": {
        "id": "b1cc85f1"
      },
      "source": [
        "## 4. `NAND` Operator"
      ]
    },
    {
      "cell_type": "code",
      "execution_count": null,
      "id": "ce1b3b91",
      "metadata": {
        "colab": {
          "base_uri": "https://localhost:8080/"
        },
        "id": "ce1b3b91",
        "outputId": "527311be-10fc-4366-a246-6d0e60d0ee08"
      },
      "outputs": [
        {
          "output_type": "stream",
          "name": "stdout",
          "text": [
            "NAND(0, 0) = 1\n",
            "NAND(0, 1) = 1\n",
            "NAND(1, 0) = 1\n",
            "NAND(1, 1) = 0\n"
          ]
        }
      ],
      "source": [
        "class PerceptronNAND:\n",
        "\n",
        "  def __init__(self): \n",
        "    self.w0 = -1\n",
        "    self.w1 = 1\n",
        "    self.w2 = 1\n",
        "  \n",
        "  def decision_function(self, z): \n",
        "    return 1 if z < 1 else 0\n",
        "\n",
        "  def forward(self, x1, x2):\n",
        "    z = self.w0 + self.w1 * x1 + self.w2 * x2\n",
        "    phi_z = self.decision_function(z)\n",
        "    return phi_z\n",
        "  \n",
        "model = PerceptronNAND()\n",
        "for x1 in [0, 1]:\n",
        "  for x2 in [0, 1]:\n",
        "    print(f\"NAND{x1, x2} = {model.forward(x1, x2)}\")"
      ]
    },
    {
      "cell_type": "markdown",
      "id": "06d7a2af",
      "metadata": {
        "id": "06d7a2af"
      },
      "source": [
        "## 5. `NOR` Operator"
      ]
    },
    {
      "cell_type": "code",
      "execution_count": null,
      "id": "5be34b2a",
      "metadata": {
        "colab": {
          "base_uri": "https://localhost:8080/"
        },
        "id": "5be34b2a",
        "outputId": "fcde62aa-5acb-4a17-d61f-2ddf4d748eca"
      },
      "outputs": [
        {
          "output_type": "stream",
          "name": "stdout",
          "text": [
            "NOR(0, 0) = 1\n",
            "NOR(0, 1) = 0\n",
            "NOR(1, 0) = 0\n",
            "NOR(1, 1) = 0\n"
          ]
        }
      ],
      "source": [
        "class PerceptronNOR:\n",
        "\n",
        "  def __init__(self): \n",
        "    self.w0 = -1\n",
        "    self.w1 = 1\n",
        "    self.w2 = 1\n",
        "  \n",
        "  def decision_function(self, z): \n",
        "    return 1 if z < 0 else 0\n",
        "\n",
        "  def forward(self, x1, x2):\n",
        "    z = self.w0 + self.w1 * x1 + self.w2 * x2\n",
        "    phi_z = self.decision_function(z)\n",
        "    return phi_z\n",
        "  \n",
        "model = PerceptronNOR()\n",
        "for x1 in [0, 1]:\n",
        "  for x2 in [0, 1]:\n",
        "    print(f\"NOR{x1, x2} = {model.forward(x1, x2)}\")"
      ]
    }
  ],
  "metadata": {
    "kernelspec": {
      "display_name": "Python 3.6.8 64-bit",
      "language": "python",
      "name": "python3"
    },
    "language_info": {
      "codemirror_mode": {
        "name": "ipython",
        "version": 3
      },
      "file_extension": ".py",
      "mimetype": "text/x-python",
      "name": "python",
      "nbconvert_exporter": "python",
      "pygments_lexer": "ipython3",
      "version": "3.6.8"
    },
    "vscode": {
      "interpreter": {
        "hash": "31f2aee4e71d21fbe5cf8b01ff0e069b9275f58929596ceb00d14d90e3e16cd6"
      }
    },
    "colab": {
      "provenance": [],
      "collapsed_sections": [],
      "include_colab_link": true
    }
  },
  "nbformat": 4,
  "nbformat_minor": 5
}